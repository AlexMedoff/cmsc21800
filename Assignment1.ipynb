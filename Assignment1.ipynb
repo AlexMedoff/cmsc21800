{
 "cells": [
  {
   "cell_type": "markdown",
   "metadata": {},
   "source": [
    "# Assignment 1. Opinion Polling\n",
    "\n",
    "In this assignment, you will be expected to analyze a dataset on your own and answer questions about your findings. \n",
    "\n",
    "*Due date*: Friday Oct 25, 2019 \n",
    "\n",
    "Completed assignments will be collected in class.\n",
    "\n",
    "You’ve been hired as a consultant to predict how a state school board election will turn out.\n",
    "* There are three candidates and all voters must vote for one of them: Pearle Goodman, Masako Holley, Genevieve Gallegos.\n",
    "* The candidate with the final highest vote count wins the election.\n",
    "* You are given the list of registered voters here:\n",
    "https://github.com/sjyk/cmsc21800/blob/master/voters.csv\n",
    "* The state gives you two samples of data one collected by SurveyMonkey and one collected by Qualtrics:\n",
    "https://github.com/sjyk/cmsc21800/blob/master/survey_monkey.csv \n",
    "https://github.com/sjyk/cmsc21800/blob/master/qualtrics.csv\n",
    "\n",
    "## Initial Steps\n",
    "Let's first get our data analysis environment setup by loading all of the datasets:"
   ]
  },
  {
   "cell_type": "code",
   "execution_count": 16,
   "metadata": {},
   "outputs": [],
   "source": [
    "import pandas as pd\n",
    "\n",
    "voter_roll = pd.read_csv('voters.csv')\n",
    "survey_monkey = pd.read_csv('survey_monkey.csv')\n",
    "qualtrics = pd.read_csv('qualtrics.csv')\n",
    "\n",
    "\n",
    "#the voter roll contains duplicate names due to a bug (my fault :( ), let's remove them\n",
    "def remove_duplicate_rows(df):\n",
    "    #get counts per name\n",
    "    name_cts = df.groupby('Voter')['Voter'].count()\n",
    "    \n",
    "    #find all counts greater than or equal to 2\n",
    "    dups = name_cts[name_cts >= 2]\n",
    "    \n",
    "    indexes_to_remove = []\n",
    "    for d in dups.index:\n",
    "        dup_pair = voter_roll[ voter_roll['Voter'] == d]\n",
    "        first_index = dup_pair.index[0]\n",
    "        indexes_to_remove.append(first_index)\n",
    "    \n",
    "    df_cpy = df.drop(indexes_to_remove)\n",
    "    return df_cpy\n",
    "\n",
    "#merge the datasets\n",
    "voter_roll = remove_duplicate_rows(voter_roll)\n",
    "survey_monkey = survey_monkey.merge(voter_roll, on='Voter')\n",
    "qualtrics = qualtrics.merge(voter_roll, on='Voter')"
   ]
  },
  {
   "cell_type": "markdown",
   "metadata": {},
   "source": [
    "### Q1. The SurveyMonkey data shows Genevieve Gallegos winning 59% vote of 100 people polled and the Qualtrics data shows her losing with 42% vote of 50 people polled.  Which of the following best describes the likelihood that a difference this large (>17%) happened purely by random chance and not an error in the polling process?"
   ]
  },
  {
   "cell_type": "code",
   "execution_count": 17,
   "metadata": {},
   "outputs": [
    {
     "name": "stdout",
     "output_type": "stream",
     "text": [
      "50 polled:  {'68% +/-': 0.07071067811865475, '95% +/-': 0.13859292911256332, '99% +/-': 0.1817264427649427}\n",
      "100 polled:  {'68% +/-': 0.05, '95% +/-': 0.098, '99% +/-': 0.1285}\n"
     ]
    }
   ],
   "source": [
    "\"\"\"\n",
    "Let's calculate the likelihood that a single poll could be off by 17%\n",
    "\"\"\"\n",
    "\n",
    "import numpy as np\n",
    "\n",
    "#the maximum variance of a biased coin flip is\n",
    "MAX_VARIANCE = 0.25\n",
    "\n",
    "def ci(size):\n",
    "    se = np.sqrt(MAX_VARIANCE/size)\n",
    "    return {'68% +/-': se, '95% +/-': 1.96*se, '99% +/-': 2.57*se}\n",
    "\n",
    "print('50 polled: ', ci(50))\n",
    "print('100 polled: ', ci(100))"
   ]
  },
  {
   "cell_type": "markdown",
   "metadata": {},
   "source": [
    "Clearly, it is very unlikely. So (c) is the right answer."
   ]
  },
  {
   "cell_type": "markdown",
   "metadata": {},
   "source": [
    "### Q2. The data provider suspects that the SurveyMonkey dataset is biased. What do you think?"
   ]
  },
  {
   "cell_type": "code",
   "execution_count": 22,
   "metadata": {},
   "outputs": [
    {
     "name": "stdout",
     "output_type": "stream",
     "text": [
      "County\n",
      "Bailey           0.03\n",
      "Black            0.09\n",
      "Mountain Farm    0.79\n",
      "Riverside        0.09\n",
      "Name: County, dtype: float64\n",
      "County\n",
      "Bailey           0.06\n",
      "Black            0.02\n",
      "Mountain Farm    0.80\n",
      "Riverside        0.12\n",
      "Name: County, dtype: float64\n",
      "\n",
      "Age\n",
      "26-35    0.04\n",
      "36-45    0.17\n",
      "46-55    0.46\n",
      "56-65    0.14\n",
      "65+      0.19\n",
      "Name: Age, dtype: float64\n",
      "Age\n",
      "26-35    0.06\n",
      "36-45    0.20\n",
      "46-55    0.36\n",
      "56-65    0.26\n",
      "65+      0.12\n",
      "Name: Age, dtype: float64\n",
      "\n",
      "Gender\n",
      "female    0.23\n",
      "male      0.77\n",
      "Name: Gender, dtype: float64\n",
      "Gender\n",
      "female    0.42\n",
      "male      0.58\n",
      "Name: Gender, dtype: float64\n",
      "\n"
     ]
    }
   ],
   "source": [
    "#Let's look at all the variables of interest\n",
    "cols = ['County', 'Age', 'Gender']\n",
    "for col in cols:\n",
    "    print(survey_monkey.groupby(col)[col].count()/100)\n",
    "    print(qualtrics.groupby(col)[col].count()/50)\n",
    "    print()"
   ]
  },
  {
   "cell_type": "markdown",
   "metadata": {},
   "source": [
    "Clearly it looks like the dataset is gender-biased. Let's see if this could have happened by chance."
   ]
  },
  {
   "cell_type": "code",
   "execution_count": 30,
   "metadata": {},
   "outputs": [
    {
     "name": "stdout",
     "output_type": "stream",
     "text": [
      "Number of se's from the expected value 4.968300000000001\n"
     ]
    }
   ],
   "source": [
    "voter_roll.groupby('Gender')['Gender'].count()/4239\n",
    "# There are 0.521585 % men in the whole population\n",
    "observed_difference = 0.77-0.521585\n",
    "\n",
    "#calculate the worst case standard error\n",
    "se = np.sqrt(MAX_VARIANCE/100)\n",
    "\n",
    "print('Number of se\\'s from the expected value', observed_difference/se)\n",
    "# rougly equal to 5, very unlikely!!!"
   ]
  },
  {
   "cell_type": "markdown",
   "metadata": {},
   "source": [
    "### Q3. Which of the following best describes the margin of error of the Qualtrics poll"
   ]
  },
  {
   "cell_type": "code",
   "execution_count": 32,
   "metadata": {},
   "outputs": [
    {
     "name": "stdout",
     "output_type": "stream",
     "text": [
      "50 polled:  {'68% +/-': 0.07071067811865475, '95% +/-': 0.13859292911256332, '99% +/-': 0.1817264427649427}\n"
     ]
    }
   ],
   "source": [
    "print('50 polled: ', ci(50)) #answer is (b)"
   ]
  },
  {
   "cell_type": "markdown",
   "metadata": {},
   "source": [
    "### Q4.  A news report suggests that Pearle Goodman is dropping out of the election. Is it clear which candidate benefits from her departure?"
   ]
  },
  {
   "cell_type": "code",
   "execution_count": 41,
   "metadata": {},
   "outputs": [
    {
     "name": "stdout",
     "output_type": "stream",
     "text": [
      "--- Breakdown for Genevieve Gallegos ---\n",
      "County\n",
      "Bailey           0.0250\n",
      "Black            0.0875\n",
      "Mountain Farm    0.7750\n",
      "Riverside        0.1125\n",
      "Name: County, dtype: float64\n",
      "Age\n",
      "26-35    0.0750\n",
      "36-45    0.1625\n",
      "46-55    0.4250\n",
      "56-65    0.1750\n",
      "65+      0.1625\n",
      "Name: Age, dtype: float64\n",
      "Gender\n",
      "female    0.0875\n",
      "male      0.9125\n",
      "Name: Gender, dtype: float64\n",
      "++\n",
      "\n",
      "--- Breakdown for Masako Holley ---\n",
      "County\n",
      "Bailey           0.066667\n",
      "Black            0.050000\n",
      "Mountain Farm    0.800000\n",
      "Riverside        0.083333\n",
      "Name: County, dtype: float64\n",
      "Age\n",
      "26-35    0.016667\n",
      "36-45    0.200000\n",
      "46-55    0.433333\n",
      "56-65    0.166667\n",
      "65+      0.183333\n",
      "Name: Age, dtype: float64\n",
      "Gender\n",
      "female    0.6\n",
      "male      0.4\n",
      "Name: Gender, dtype: float64\n",
      "++\n",
      "\n",
      "--- Breakdown for Pearle Goodman ---\n",
      "County\n",
      "Mountain Farm    0.9\n",
      "Riverside        0.1\n",
      "Name: County, dtype: float64\n",
      "Age\n",
      "36-45    0.2\n",
      "46-55    0.4\n",
      "56-65    0.3\n",
      "65+      0.1\n",
      "Name: Age, dtype: float64\n",
      "Gender\n",
      "female    0.1\n",
      "male      0.9\n",
      "Name: Gender, dtype: float64\n",
      "++\n",
      "\n"
     ]
    }
   ],
   "source": [
    "combined_dataset = pd.concat([survey_monkey, qualtrics])\n",
    "candidates = ['Genevieve Gallegos', 'Masako Holley', 'Pearle Goodman']\n",
    "for cand in candidates:\n",
    "    filtered = combined_dataset[combined_dataset['Vote'] == cand] #get those rows that voted for each candidate\n",
    "    \n",
    "    print(\"--- Breakdown for\", cand ,\"---\")\n",
    "    \n",
    "    cols = ['County', 'Age', 'Gender']\n",
    "    for col in cols:\n",
    "        \n",
    "        print(filtered.groupby(col)[col].count()/len(filtered))\n",
    "    print(\"++\")\n",
    "    print()"
   ]
  },
  {
   "cell_type": "markdown",
   "metadata": {},
   "source": [
    "As you can see above Pearle Goodman has the same male-female break down as Genevieve Gallagos. So it would be reasonable to assume her votes would got to her. However, we also accepted arguments that the sample size was too small to tell."
   ]
  },
  {
   "cell_type": "markdown",
   "metadata": {},
   "source": [
    "### Q5. How likely are the following scenarios to affect the polling results (choose between “in favor of Genevieve Gallegos”,  “in favor of Masako Holley”, or statistically insignificant/unclear), explain.\n",
    "\n",
    "We accepted all reasonable arguments here."
   ]
  },
  {
   "cell_type": "code",
   "execution_count": null,
   "metadata": {},
   "outputs": [],
   "source": []
  }
 ],
 "metadata": {
  "kernelspec": {
   "display_name": "Python 3",
   "language": "python",
   "name": "python3"
  },
  "language_info": {
   "codemirror_mode": {
    "name": "ipython",
    "version": 3
   },
   "file_extension": ".py",
   "mimetype": "text/x-python",
   "name": "python",
   "nbconvert_exporter": "python",
   "pygments_lexer": "ipython3",
   "version": "3.7.4"
  }
 },
 "nbformat": 4,
 "nbformat_minor": 2
}

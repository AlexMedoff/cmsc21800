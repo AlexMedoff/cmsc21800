{
 "cells": [
  {
   "cell_type": "markdown",
   "metadata": {},
   "source": [
    "# Regression\n",
    "\n",
    "In the last lecture, we looked at the problem of classification where the goal was to find a rule that best predicts class membership from a discrete set of classes, such as \"Fraud v.s. Not Fraud\" or \"Survived or Not Survived\". In this lecture, we are going to study real-valued prediction---like predict the number of sales on a given day or predict the energy usage of a device. However, the basic construct will still be the same: you have a set of features X and a set of labels Y. The goal is to find a functional relationship between X and Y that best predicts Y.\n",
    "\n",
    "## Example\n",
    "Bike-sharing rental process is highly correlated to the environmental and seasonal settings. For instance, weather conditions, precipitation, day of week, season, hour of the day, etc. can affect the rental behaviors. The core data set is related to   the two-year historical log corresponding to years 2011 and 2012 from Capital Bikeshare system, Washington D.C., USA which is  publicly available in http://capitalbikeshare.com/system-data. "
   ]
  },
  {
   "cell_type": "code",
   "execution_count": 82,
   "metadata": {},
   "outputs": [
    {
     "data": {
      "text/html": [
       "<div>\n",
       "<style scoped>\n",
       "    .dataframe tbody tr th:only-of-type {\n",
       "        vertical-align: middle;\n",
       "    }\n",
       "\n",
       "    .dataframe tbody tr th {\n",
       "        vertical-align: top;\n",
       "    }\n",
       "\n",
       "    .dataframe thead th {\n",
       "        text-align: right;\n",
       "    }\n",
       "</style>\n",
       "<table border=\"1\" class=\"dataframe\">\n",
       "  <thead>\n",
       "    <tr style=\"text-align: right;\">\n",
       "      <th></th>\n",
       "      <th>instant</th>\n",
       "      <th>dteday</th>\n",
       "      <th>season</th>\n",
       "      <th>yr</th>\n",
       "      <th>mnth</th>\n",
       "      <th>hr</th>\n",
       "      <th>holiday</th>\n",
       "      <th>weekday</th>\n",
       "      <th>workingday</th>\n",
       "      <th>weathersit</th>\n",
       "      <th>temp</th>\n",
       "      <th>atemp</th>\n",
       "      <th>hum</th>\n",
       "      <th>windspeed</th>\n",
       "      <th>casual</th>\n",
       "      <th>registered</th>\n",
       "      <th>cnt</th>\n",
       "    </tr>\n",
       "  </thead>\n",
       "  <tbody>\n",
       "    <tr>\n",
       "      <th>0</th>\n",
       "      <td>1</td>\n",
       "      <td>2011-01-01</td>\n",
       "      <td>1</td>\n",
       "      <td>0</td>\n",
       "      <td>1</td>\n",
       "      <td>0</td>\n",
       "      <td>0</td>\n",
       "      <td>6</td>\n",
       "      <td>0</td>\n",
       "      <td>1</td>\n",
       "      <td>0.24</td>\n",
       "      <td>0.2879</td>\n",
       "      <td>0.81</td>\n",
       "      <td>0.0</td>\n",
       "      <td>3</td>\n",
       "      <td>13</td>\n",
       "      <td>16</td>\n",
       "    </tr>\n",
       "    <tr>\n",
       "      <th>1</th>\n",
       "      <td>2</td>\n",
       "      <td>2011-01-01</td>\n",
       "      <td>1</td>\n",
       "      <td>0</td>\n",
       "      <td>1</td>\n",
       "      <td>1</td>\n",
       "      <td>0</td>\n",
       "      <td>6</td>\n",
       "      <td>0</td>\n",
       "      <td>1</td>\n",
       "      <td>0.22</td>\n",
       "      <td>0.2727</td>\n",
       "      <td>0.80</td>\n",
       "      <td>0.0</td>\n",
       "      <td>8</td>\n",
       "      <td>32</td>\n",
       "      <td>40</td>\n",
       "    </tr>\n",
       "    <tr>\n",
       "      <th>2</th>\n",
       "      <td>3</td>\n",
       "      <td>2011-01-01</td>\n",
       "      <td>1</td>\n",
       "      <td>0</td>\n",
       "      <td>1</td>\n",
       "      <td>2</td>\n",
       "      <td>0</td>\n",
       "      <td>6</td>\n",
       "      <td>0</td>\n",
       "      <td>1</td>\n",
       "      <td>0.22</td>\n",
       "      <td>0.2727</td>\n",
       "      <td>0.80</td>\n",
       "      <td>0.0</td>\n",
       "      <td>5</td>\n",
       "      <td>27</td>\n",
       "      <td>32</td>\n",
       "    </tr>\n",
       "    <tr>\n",
       "      <th>3</th>\n",
       "      <td>4</td>\n",
       "      <td>2011-01-01</td>\n",
       "      <td>1</td>\n",
       "      <td>0</td>\n",
       "      <td>1</td>\n",
       "      <td>3</td>\n",
       "      <td>0</td>\n",
       "      <td>6</td>\n",
       "      <td>0</td>\n",
       "      <td>1</td>\n",
       "      <td>0.24</td>\n",
       "      <td>0.2879</td>\n",
       "      <td>0.75</td>\n",
       "      <td>0.0</td>\n",
       "      <td>3</td>\n",
       "      <td>10</td>\n",
       "      <td>13</td>\n",
       "    </tr>\n",
       "    <tr>\n",
       "      <th>4</th>\n",
       "      <td>5</td>\n",
       "      <td>2011-01-01</td>\n",
       "      <td>1</td>\n",
       "      <td>0</td>\n",
       "      <td>1</td>\n",
       "      <td>4</td>\n",
       "      <td>0</td>\n",
       "      <td>6</td>\n",
       "      <td>0</td>\n",
       "      <td>1</td>\n",
       "      <td>0.24</td>\n",
       "      <td>0.2879</td>\n",
       "      <td>0.75</td>\n",
       "      <td>0.0</td>\n",
       "      <td>0</td>\n",
       "      <td>1</td>\n",
       "      <td>1</td>\n",
       "    </tr>\n",
       "  </tbody>\n",
       "</table>\n",
       "</div>"
      ],
      "text/plain": [
       "   instant      dteday  season  yr  mnth  hr  holiday  weekday  workingday  \\\n",
       "0        1  2011-01-01       1   0     1   0        0        6           0   \n",
       "1        2  2011-01-01       1   0     1   1        0        6           0   \n",
       "2        3  2011-01-01       1   0     1   2        0        6           0   \n",
       "3        4  2011-01-01       1   0     1   3        0        6           0   \n",
       "4        5  2011-01-01       1   0     1   4        0        6           0   \n",
       "\n",
       "   weathersit  temp   atemp   hum  windspeed  casual  registered  cnt  \n",
       "0           1  0.24  0.2879  0.81        0.0       3          13   16  \n",
       "1           1  0.22  0.2727  0.80        0.0       8          32   40  \n",
       "2           1  0.22  0.2727  0.80        0.0       5          27   32  \n",
       "3           1  0.24  0.2879  0.75        0.0       3          10   13  \n",
       "4           1  0.24  0.2879  0.75        0.0       0           1    1  "
      ]
     },
     "execution_count": 82,
     "metadata": {},
     "output_type": "execute_result"
    }
   ],
   "source": [
    "import pandas as pd\n",
    "data = pd.read_csv('hour.csv')\n",
    "data[:5]"
   ]
  },
  {
   "cell_type": "markdown",
   "metadata": {},
   "source": [
    "Let's break down each of the columns, so we have a better idea of what we are dealing with."
   ]
  },
  {
   "cell_type": "code",
   "execution_count": 26,
   "metadata": {},
   "outputs": [
    {
     "name": "stdout",
     "output_type": "stream",
     "text": [
      "yr\n",
      "0    8645\n",
      "1    8734\n",
      "Name: yr, dtype: int64\n"
     ]
    }
   ],
   "source": [
    "print(data.groupby(['yr'])['yr'].count()) #Two years of data"
   ]
  },
  {
   "cell_type": "code",
   "execution_count": 27,
   "metadata": {},
   "outputs": [
    {
     "name": "stdout",
     "output_type": "stream",
     "text": [
      "season\n",
      "1    4242\n",
      "2    4409\n",
      "3    4496\n",
      "4    4232\n",
      "Name: season, dtype: int64\n"
     ]
    }
   ],
   "source": [
    "print(data.groupby(['season'])['season'].count()) #seasons count 1-4"
   ]
  },
  {
   "cell_type": "code",
   "execution_count": 28,
   "metadata": {},
   "outputs": [
    {
     "name": "stdout",
     "output_type": "stream",
     "text": [
      "weekday\n",
      "0    2502\n",
      "1    2479\n",
      "2    2453\n",
      "3    2475\n",
      "4    2471\n",
      "5    2487\n",
      "6    2512\n",
      "Name: weekday, dtype: int64\n"
     ]
    }
   ],
   "source": [
    "print(data.groupby(['weekday'])['weekday'].count()) #day of the week"
   ]
  },
  {
   "cell_type": "markdown",
   "metadata": {},
   "source": [
    "Let's try something simple first and then refine our approach. Like before, we can construct features and labels."
   ]
  },
  {
   "cell_type": "code",
   "execution_count": 83,
   "metadata": {},
   "outputs": [],
   "source": [
    "from sklearn.linear_model import LinearRegression\n",
    "from sklearn.metrics import r2_score\n",
    "from sklearn.model_selection import train_test_split\n",
    "\n",
    "def linmodel():\n",
    "    feature_cols = ['season','yr','mnth','hr','holiday','weekday','workingday','weathersit','temp','atemp','hum','windspeed']\n",
    "    X = data[feature_cols].to_numpy()\n",
    "    Y = data['cnt'].to_numpy()\n",
    "\n",
    "    #create a testing dataset\n",
    "\n",
    "    X_train, X_test, Y_train, Y_test = train_test_split(X,Y,test_size=0.2,random_state=1)\n",
    "\n",
    "    lin = LinearRegression()\n",
    "    lin.fit(X_train,Y_train)\n",
    "    Y_pred = lin.predict(X_test)\n",
    "\n",
    "    print(r2_score(Y_test, Y_pred))"
   ]
  },
  {
   "cell_type": "code",
   "execution_count": 84,
   "metadata": {},
   "outputs": [
    {
     "name": "stdout",
     "output_type": "stream",
     "text": [
      "0.3975373993285606\n"
     ]
    }
   ],
   "source": [
    "linmodel()"
   ]
  },
  {
   "cell_type": "markdown",
   "metadata": {},
   "source": [
    "This is better than simply picking the mean value each time. But can we do even better?\n",
    "\n",
    "## Feature Engineering\n",
    "What might be broken. Many datasets that are collected overtime exhibit seasonal effects where the data repeats:"
   ]
  },
  {
   "cell_type": "code",
   "execution_count": 31,
   "metadata": {},
   "outputs": [
    {
     "name": "stdout",
     "output_type": "stream",
     "text": [
      "mnth\n",
      "1      94.424773\n",
      "2     112.865026\n",
      "3     155.410726\n",
      "4     187.260960\n",
      "5     222.907258\n",
      "6     240.515278\n",
      "7     231.819892\n",
      "8     238.097627\n",
      "9     240.773138\n",
      "10    222.158511\n",
      "11    177.335421\n",
      "12    142.303439\n",
      "Name: cnt, dtype: float64\n"
     ]
    }
   ],
   "source": [
    "print(data.groupby(['mnth'])['cnt'].mean())"
   ]
  },
  {
   "cell_type": "markdown",
   "metadata": {},
   "source": [
    "Why might this be a problem for linear regression? Fundementally this is a non-linear relationship between the month id and the value. One simple trick is to transform the data into \"distance to june\" rather than keep it as a month id."
   ]
  },
  {
   "cell_type": "code",
   "execution_count": 86,
   "metadata": {},
   "outputs": [
    {
     "name": "stdout",
     "output_type": "stream",
     "text": [
      "mnth\n",
      "0    240.515278\n",
      "1    227.363575\n",
      "2    213.010989\n",
      "3    197.563918\n",
      "4    169.664756\n",
      "5    135.995813\n",
      "6    142.303439\n",
      "Name: cnt, dtype: float64\n"
     ]
    }
   ],
   "source": [
    "import numpy as np\n",
    "data['mnth'] = np.abs((data['mnth'] - 6))\n",
    "print(data.groupby(['mnth'])['cnt'].mean())"
   ]
  },
  {
   "cell_type": "code",
   "execution_count": 87,
   "metadata": {},
   "outputs": [
    {
     "name": "stdout",
     "output_type": "stream",
     "text": [
      "0.39938199269945185\n"
     ]
    }
   ],
   "source": [
    "linmodel()"
   ]
  },
  {
   "cell_type": "markdown",
   "metadata": {},
   "source": [
    "What else could be challenging? There could be outliers or points that are not really well correlated with the features. We can fix this with a technique called ridge regression, this approach penalizes fitting heavily to a single feature."
   ]
  },
  {
   "cell_type": "code",
   "execution_count": 91,
   "metadata": {},
   "outputs": [
    {
     "name": "stdout",
     "output_type": "stream",
     "text": [
      "0.35450371872393094\n"
     ]
    }
   ],
   "source": [
    "from sklearn.linear_model import Ridge\n",
    "def ridgemodel(alpha=1):\n",
    "    feature_cols = ['season','yr','mnth','hr','holiday','weekday','workingday','weathersit','temp','atemp','hum','windspeed']\n",
    "    X = data[feature_cols].to_numpy()\n",
    "    Y = data['cnt'].to_numpy()\n",
    "\n",
    "    #create a testing dataset\n",
    "\n",
    "    X_train, X_test, Y_train, Y_test = train_test_split(X,Y,test_size=0.2,random_state=1)\n",
    "    \n",
    "    #Y_train[0:1000] = 100\n",
    "\n",
    "    lin = Ridge(alpha=alpha)\n",
    "    lin.fit(X_train,Y_train)\n",
    "    Y_pred = lin.predict(X_test)\n",
    "\n",
    "    print(r2_score(Y_test, Y_pred))\n",
    "\n",
    "ridgemodel(1000)\n"
   ]
  },
  {
   "cell_type": "markdown",
   "metadata": {},
   "source": [
    "## Non-linear models\n",
    "Maybe your problem is fundementally non-linear. One easy way to make a linear model more successful at non-linear relationships to to engineer your features to capture non-linearity better:"
   ]
  },
  {
   "cell_type": "code",
   "execution_count": 93,
   "metadata": {},
   "outputs": [
    {
     "data": {
      "text/plain": [
       "array([[ 1.,  1.,  2.,  3.,  1.,  2.,  3.,  4.,  6.,  9.,  1.,  2.,  3.,\n",
       "         4.,  6.,  9.,  8., 12., 18., 27.]])"
      ]
     },
     "execution_count": 93,
     "metadata": {},
     "output_type": "execute_result"
    }
   ],
   "source": [
    "from sklearn.preprocessing import PolynomialFeatures\n",
    "pol = PolynomialFeatures(degree=3)\n",
    "X = np.array([[1,2,3]])\n",
    "Xp = pol.fit_transform(X)\n",
    "Xp"
   ]
  },
  {
   "cell_type": "code",
   "execution_count": 95,
   "metadata": {},
   "outputs": [
    {
     "name": "stdout",
     "output_type": "stream",
     "text": [
      "Degree: 1 0.39938199269945196\n",
      "0.3874777557144905\n",
      "Degree: 2 0.5716738428789065\n",
      "0.5501992459025082\n",
      "Degree: 3 0.6526320461664733\n",
      "0.6471134195070325\n",
      "Degree: 4 0.6250148884188107\n",
      "0.7158030590170514\n"
     ]
    }
   ],
   "source": [
    "def polymodel(degree=1):\n",
    "    feature_cols = ['season','yr','mnth','hr','holiday','weekday','workingday','weathersit','temp','atemp','hum','windspeed']\n",
    "    X = data[feature_cols].to_numpy()\n",
    "    Y = data['cnt'].to_numpy()\n",
    "    \n",
    "    pol = PolynomialFeatures(degree=degree)\n",
    "    X = pol.fit_transform(X)\n",
    "\n",
    "    #create a testing dataset\n",
    "\n",
    "    X_train, X_test, Y_train, Y_test = train_test_split(X,Y,test_size=0.2,random_state=1)\n",
    "\n",
    "    lin = LinearRegression()\n",
    "    lin.fit(X_train,Y_train)\n",
    "    Y_pred = lin.predict(X_test)\n",
    "\n",
    "    print('Degree:',degree,r2_score(Y_test, Y_pred))\n",
    "    \n",
    "    #training accuracy\n",
    "    Y_pred = lin.predict(X_train)\n",
    "    print(r2_score(Y_train, Y_pred))\n",
    "    \n",
    "    \n",
    "\n",
    "polymodel(1)\n",
    "polymodel(2)\n",
    "polymodel(3)\n",
    "polymodel(4) #what is going on here???"
   ]
  },
  {
   "cell_type": "markdown",
   "metadata": {},
   "source": [
    "sci-kit learn also has other non-linear models that might be more effective for your task. "
   ]
  },
  {
   "cell_type": "code",
   "execution_count": 96,
   "metadata": {},
   "outputs": [
    {
     "name": "stderr",
     "output_type": "stream",
     "text": [
      "/Users/sanjaykrishnan/Documents/cmsc21800/venv/lib/python3.7/site-packages/sklearn/ensemble/forest.py:245: FutureWarning: The default value of n_estimators will change from 10 in version 0.20 to 100 in 0.22.\n",
      "  \"10 in version 0.20 to 100 in 0.22.\", FutureWarning)\n"
     ]
    },
    {
     "name": "stdout",
     "output_type": "stream",
     "text": [
      "0.9390331254966053\n"
     ]
    }
   ],
   "source": [
    "from sklearn.ensemble import RandomForestRegressor\n",
    "def rfmodel():\n",
    "    feature_cols = ['season','yr','mnth','hr','holiday','weekday','workingday','weathersit','temp','atemp','hum','windspeed']\n",
    "    X = data[feature_cols].to_numpy()\n",
    "    Y = data['cnt'].to_numpy()\n",
    "    \n",
    "    #create a testing dataset\n",
    "\n",
    "    X_train, X_test, Y_train, Y_test = train_test_split(X,Y,test_size=0.2,random_state=1)\n",
    "    \n",
    "    #Y_train[0:1000] = 100\n",
    "\n",
    "    lin = RandomForestRegressor()\n",
    "    lin.fit(X_train,Y_train)\n",
    "    Y_pred = lin.predict(X_test)\n",
    "\n",
    "    print(r2_score(Y_test, Y_pred))\n",
    "\n",
    "rfmodel()"
   ]
  },
  {
   "cell_type": "code",
   "execution_count": null,
   "metadata": {},
   "outputs": [],
   "source": []
  }
 ],
 "metadata": {
  "kernelspec": {
   "display_name": "Python 3",
   "language": "python",
   "name": "python3"
  },
  "language_info": {
   "codemirror_mode": {
    "name": "ipython",
    "version": 3
   },
   "file_extension": ".py",
   "mimetype": "text/x-python",
   "name": "python",
   "nbconvert_exporter": "python",
   "pygments_lexer": "ipython3",
   "version": "3.7.4"
  }
 },
 "nbformat": 4,
 "nbformat_minor": 2
}

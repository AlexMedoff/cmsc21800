{
 "cells": [
  {
   "cell_type": "markdown",
   "metadata": {},
   "source": [
    "# Assignment 2: Hypothesis Testing\n",
    "\n",
    "*Due*: Wed, Nov 13, 2019 in class\n",
    "\n",
    "*Submission*: Complete this notebook and print out the output or electronically submit it. \n",
    "\n",
    "Everything you need to complete is marked with a TODO. For textual questions create a new cell under the question to respond to it.\n",
    "\n",
    "\n",
    "## Motivation\n",
    "In a standard randomized control trial, our null hypothesis is often trivial---nothing happens, no difference in the mean, no difference in the relative ranking. In this assignment, we look to generalize this idea to compare observed data against an assumed statistical model. That is, could the observed data plausibly be generated from the known model.\n",
    "\n",
    "\n",
    "An air shower is a cascade of ionized particles and electromagnetic radiation produced in the atmosphere when a primary cosmic ray (i.e. one of extraterrestrial origin) enters the atmosphere. When a particle, which could be a proton, a nucleus, an electron, a photon, or (rarely) a positron, strikes an atom's nucleus in the air it produces many energetic hadrons. We have a detector that observes particles that reach a ground station and measures the particle energy and arrival time.\n",
    "\n",
    "## Model and Data\n",
    "We have the following theoretical model to describe particle behavior. The energy of each particle is drawn independent of arrival time from a [Gamma Distribution](https://en.wikipedia.org/wiki/Gamma_distribution). The particles arrive as a [Poisson process](https://en.wikipedia.org/wiki/Poisson_point_process). We have the following simulator:"
   ]
  },
  {
   "cell_type": "code",
   "execution_count": 16,
   "metadata": {},
   "outputs": [],
   "source": [
    "import numpy as np\n",
    "import pandas as pd\n",
    "\n",
    "def simulate_burst(total):\n",
    "    \"\"\"Simulates a trial of total # of particles returns\n",
    "       a dataframe with two columns one with observed time (in microsecs)\n",
    "       and one with the energy in kilojoules.\n",
    "    \"\"\"\n",
    "    t = 0\n",
    "    data = []\n",
    "    for trial in range(total):\n",
    "        t += np.random.exponential(scale=1.0)\n",
    "        obs = np.random.gamma(2.15,1.96, 1)[0]\n",
    "        \n",
    "        data.append({'otime_us':t, 'energy_kj':obs})\n",
    "    \n",
    "    return pd.DataFrame(data)"
   ]
  },
  {
   "cell_type": "markdown",
   "metadata": {},
   "source": [
    "In addition to the simulator, you are given a daset of real observations [download](https://raw.githubusercontent.com/sjyk/cmsc21800/master/part.csv). You will write a function to load this dataset into a pandas dataframe. The dataset contains some missing values, the function should drop all rows with any missing values (i.e., NaN)"
   ]
  },
  {
   "cell_type": "code",
   "execution_count": 28,
   "metadata": {},
   "outputs": [],
   "source": [
    "def load_data(filename):\n",
    "    \"\"\"TODO\n",
    "       \n",
    "       Input: a csv file of airburst observations\n",
    "       Output: a pandas dataframe with no NaNs\n",
    "    \"\"\"\n",
    "    \n",
    "    raise ValueError(\"NotImplemented: You must implement load_data(filename)\")"
   ]
  },
  {
   "cell_type": "markdown",
   "metadata": {},
   "source": [
    "## Pre-Processing"
   ]
  },
  {
   "cell_type": "markdown",
   "metadata": {},
   "source": [
    "Before, we begin testing, we show analyze the data for potential problems.\n",
    "\n",
    "Q1. TODO *Compare particle energies generated from the simulator and the real data. If they do differ, explain how.*"
   ]
  },
  {
   "cell_type": "code",
   "execution_count": 24,
   "metadata": {},
   "outputs": [],
   "source": [
    "#Code for Q1"
   ]
  },
  {
   "cell_type": "markdown",
   "metadata": {},
   "source": [
    "Q2. TODO *Your engineers tell you that all energy readings should be positive. Are there any negative values in either of the datasets? If so, is there any unexpected pattern to those values in terms of times they occur or values they take on?*"
   ]
  },
  {
   "cell_type": "code",
   "execution_count": null,
   "metadata": {},
   "outputs": [],
   "source": [
    "#Code for Q2"
   ]
  },
  {
   "cell_type": "markdown",
   "metadata": {},
   "source": [
    "Q3. TODO *Are there any other energy readings that are suspect in the real dataset? Roughly what fraction of values are suspect*"
   ]
  },
  {
   "cell_type": "code",
   "execution_count": 25,
   "metadata": {},
   "outputs": [],
   "source": [
    "#Code for Q3"
   ]
  },
  {
   "cell_type": "markdown",
   "metadata": {},
   "source": [
    "Based on your answers to Q1, Q2, Q3, write a function that cleans the real data by removing all problematic observations. "
   ]
  },
  {
   "cell_type": "code",
   "execution_count": 27,
   "metadata": {},
   "outputs": [],
   "source": [
    "def clean(df):\n",
    "    \"\"\"TODO\n",
    "    \n",
    "       Input: a dataframe of a mix of erroneous and correct observations \n",
    "       Output: a dataframe with only the correct observations\n",
    "    \"\"\"\n",
    "    \n",
    "    raise ValueError(\"NotImplemented: You must implement clean(df)\")"
   ]
  },
  {
   "cell_type": "markdown",
   "metadata": {},
   "source": [
    "## Comparing the Energies\n",
    "Now, we will compare the particle energies from the simulated data and the real data. Fill in the following hypothesis tests. *Be reasonable about this* You may not import methods from statistics packages that perform the test for you."
   ]
  },
  {
   "cell_type": "code",
   "execution_count": 30,
   "metadata": {},
   "outputs": [
    {
     "ename": "ValueError",
     "evalue": "NotImplemented: You must implement load_data(filename)",
     "output_type": "error",
     "traceback": [
      "\u001b[0;31m---------------------------------------------------------------------------\u001b[0m",
      "\u001b[0;31mValueError\u001b[0m                                Traceback (most recent call last)",
      "\u001b[0;32m<ipython-input-30-b91891e279fc>\u001b[0m in \u001b[0;36m<module>\u001b[0;34m\u001b[0m\n\u001b[1;32m     21\u001b[0m \u001b[0;31m#get the data\u001b[0m\u001b[0;34m\u001b[0m\u001b[0;34m\u001b[0m\u001b[0;34m\u001b[0m\u001b[0m\n\u001b[1;32m     22\u001b[0m \u001b[0msimulate_data\u001b[0m \u001b[0;34m=\u001b[0m \u001b[0msimulate_burst\u001b[0m\u001b[0;34m(\u001b[0m\u001b[0;36m10000\u001b[0m\u001b[0;34m)\u001b[0m\u001b[0;34m\u001b[0m\u001b[0;34m\u001b[0m\u001b[0m\n\u001b[0;32m---> 23\u001b[0;31m \u001b[0mreal_data\u001b[0m \u001b[0;34m=\u001b[0m  \u001b[0mclean\u001b[0m\u001b[0;34m(\u001b[0m\u001b[0mload_data\u001b[0m\u001b[0;34m(\u001b[0m\u001b[0;34m'part.csv'\u001b[0m\u001b[0;34m)\u001b[0m\u001b[0;34m)\u001b[0m\u001b[0;34m\u001b[0m\u001b[0;34m\u001b[0m\u001b[0m\n\u001b[0m\u001b[1;32m     24\u001b[0m \u001b[0mprint\u001b[0m\u001b[0;34m(\u001b[0m\u001b[0;34m'Two-Sample Z-Test: '\u001b[0m\u001b[0;34m,\u001b[0m \u001b[0mz_test_energy\u001b[0m\u001b[0;34m(\u001b[0m\u001b[0msimulated\u001b[0m\u001b[0;34m,\u001b[0m \u001b[0mreal\u001b[0m\u001b[0;34m)\u001b[0m\u001b[0;34m)\u001b[0m\u001b[0;34m\u001b[0m\u001b[0;34m\u001b[0m\u001b[0m\n\u001b[1;32m     25\u001b[0m \u001b[0mprint\u001b[0m\u001b[0;34m(\u001b[0m\u001b[0;34m'Rank Sum Test: '\u001b[0m\u001b[0;34m,\u001b[0m \u001b[0mrs_test_energy\u001b[0m\u001b[0;34m(\u001b[0m\u001b[0msimulated\u001b[0m\u001b[0;34m,\u001b[0m \u001b[0mreal\u001b[0m\u001b[0;34m)\u001b[0m\u001b[0;34m)\u001b[0m\u001b[0;34m\u001b[0m\u001b[0;34m\u001b[0m\u001b[0m\n",
      "\u001b[0;32m<ipython-input-28-5be6525d36ef>\u001b[0m in \u001b[0;36mload_data\u001b[0;34m(filename)\u001b[0m\n\u001b[1;32m      6\u001b[0m     \"\"\"\n\u001b[1;32m      7\u001b[0m \u001b[0;34m\u001b[0m\u001b[0m\n\u001b[0;32m----> 8\u001b[0;31m     \u001b[0;32mraise\u001b[0m \u001b[0mValueError\u001b[0m\u001b[0;34m(\u001b[0m\u001b[0;34m\"NotImplemented: You must implement load_data(filename)\"\u001b[0m\u001b[0;34m)\u001b[0m\u001b[0;34m\u001b[0m\u001b[0;34m\u001b[0m\u001b[0m\n\u001b[0m",
      "\u001b[0;31mValueError\u001b[0m: NotImplemented: You must implement load_data(filename)"
     ]
    }
   ],
   "source": [
    "def z_test_energy(simulated, real):\n",
    "    \"\"\"TODO\n",
    "    \n",
    "       Input: a dataframe of simulated observations, a dataframe of real observations \n",
    "       Output: a p-value based on the two-sample z-test\n",
    "    \"\"\"\n",
    "    \n",
    "    raise ValueError(\"NotImplemented: You must implement z_test_energy\")\n",
    "\n",
    "    \n",
    "def rs_test_energy(simulated, real):\n",
    "    \"\"\"TODO\n",
    "    \n",
    "       Input: a dataframe of simulated observations, a dataframe of real observations \n",
    "       Output: a p-value based on the two-sample rank-sum test using the normal approximation\n",
    "    \"\"\"\n",
    "    \n",
    "    raise ValueError(\"NotImplemented: You must implement rs_test_energy\")\n",
    "\n",
    "\n",
    "#get the data\n",
    "simulate_data = simulate_burst(10000)\n",
    "real_data =  clean(load_data('part.csv'))\n",
    "print('Two-Sample Z-Test: ', z_test_energy(simulated, real))\n",
    "print('Rank Sum Test: ', rs_test_energy(simulated, real))"
   ]
  },
  {
   "cell_type": "markdown",
   "metadata": {},
   "source": [
    "There are a few parameters here that we selected: (1) how much data to simulate, and (2) we cleaned the real dataset prior to testing. Evaluate the effects of these choices.\n",
    "\n",
    "Q1. TODO *Would it be beneficial to simulate 1e6 data points rather than the 10000 used above, why or why not?*"
   ]
  },
  {
   "cell_type": "code",
   "execution_count": null,
   "metadata": {},
   "outputs": [],
   "source": [
    "#Code for Q1"
   ]
  },
  {
   "cell_type": "markdown",
   "metadata": {},
   "source": [
    "Q2. TODO *Do the p-values change if you did not clean the dataset? Are both tests equally sensitive to the dirty data?*"
   ]
  },
  {
   "cell_type": "code",
   "execution_count": null,
   "metadata": {},
   "outputs": [],
   "source": [
    "#Code for Q2"
   ]
  },
  {
   "cell_type": "markdown",
   "metadata": {},
   "source": [
    "## Comparing the Arrival Times\n",
    "So far, we have only tested the particle energies. Another important aspect of our model is the arrival process (i.e., the times). \n",
    "\n",
    "Q1. TODO *Describe a hypothesis test that evaluates whether the arrival process significantly differs in the simulator from the observed data.*"
   ]
  },
  {
   "cell_type": "markdown",
   "metadata": {},
   "source": [
    "Q2. TODO *Do your pre-processing choice above change? Why or why not?*"
   ]
  },
  {
   "cell_type": "code",
   "execution_count": null,
   "metadata": {},
   "outputs": [],
   "source": [
    "def test_arrival_process(simulated, real):\n",
    "    \"\"\"TODO\n",
    "    \n",
    "       Input: a dataframe of simulated observations, a dataframe of real observations \n",
    "       Output: a p-value that determines the difference between the arrival processes\n",
    "    \"\"\"\n",
    "    \n",
    "    raise ValueError(\"NotImplemented: You must implement rs_test_energy\")"
   ]
  }
 ],
 "metadata": {
  "kernelspec": {
   "display_name": "Python 3",
   "language": "python",
   "name": "python3"
  },
  "language_info": {
   "codemirror_mode": {
    "name": "ipython",
    "version": 3
   },
   "file_extension": ".py",
   "mimetype": "text/x-python",
   "name": "python",
   "nbconvert_exporter": "python",
   "pygments_lexer": "ipython3",
   "version": "3.7.4"
  }
 },
 "nbformat": 4,
 "nbformat_minor": 2
}

{
 "cells": [
  {
   "cell_type": "markdown",
   "metadata": {},
   "source": [
    "# Fair Flips from a Biased Coin\n",
    "We demonstrate a simple Python application for generating fair coin flips from a biased coin. The first thing that we need to do is to simulate a biased coin flip."
   ]
  },
  {
   "cell_type": "code",
   "execution_count": 1,
   "metadata": {},
   "outputs": [],
   "source": [
    "import random\n",
    "\n",
    "def flip(p):\n",
    "    '''Flips a coin that has a probability p of H and (1-p) of T\n",
    "    \n",
    "    Args:\n",
    "        p - number [0,1]\n",
    "    '''\n",
    "    if random.random() <= p:\n",
    "        return 'H'\n",
    "    else:\n",
    "        return 'T'"
   ]
  },
  {
   "cell_type": "markdown",
   "metadata": {},
   "source": [
    "If we run this code, we get a bunch of different realizations of the coin flips:"
   ]
  },
  {
   "cell_type": "code",
   "execution_count": 4,
   "metadata": {},
   "outputs": [
    {
     "data": {
      "text/plain": [
       "['T', 'H', 'T']"
      ]
     },
     "execution_count": 4,
     "metadata": {},
     "output_type": "execute_result"
    }
   ],
   "source": [
    "[flip(0.5), flip(0.5), flip(0.5)]"
   ]
  },
  {
   "cell_type": "markdown",
   "metadata": {},
   "source": [
    "We can write a simulation function that runs multiple trials:"
   ]
  },
  {
   "cell_type": "code",
   "execution_count": 22,
   "metadata": {},
   "outputs": [
    {
     "data": {
      "text/plain": [
       "(0.3, 0.7)"
      ]
     },
     "execution_count": 22,
     "metadata": {},
     "output_type": "execute_result"
    }
   ],
   "source": [
    "def simulate(N, p):\n",
    "    '''Simulates N coin flips with probability p\n",
    "    \n",
    "    Args:\n",
    "        N - number of trials (int)\n",
    "        p - number [0,1]\n",
    "    '''\n",
    "    \n",
    "    values = []\n",
    "    \n",
    "    for i in range(N):\n",
    "        values.append(flip(p))\n",
    "        \n",
    "    return values.count('H')/N, values.count('T')/N\n",
    "\n",
    "simulate(1000, 0.3)"
   ]
  },
  {
   "cell_type": "markdown",
   "metadata": {},
   "source": [
    "We can define a `flip2` routine that flips a pair of coins with the desired probability:"
   ]
  },
  {
   "cell_type": "code",
   "execution_count": 23,
   "metadata": {},
   "outputs": [],
   "source": [
    "def flip2(p):\n",
    "    '''Flips two coins each of which has a probability p of H and (1-p) of T\n",
    "    \n",
    "    Args:\n",
    "        p - number [0,1]\n",
    "    '''\n",
    "    return (flip(p), flip(p))"
   ]
  },
  {
   "cell_type": "code",
   "execution_count": 24,
   "metadata": {},
   "outputs": [
    {
     "data": {
      "text/plain": [
       "('T', 'T')"
      ]
     },
     "execution_count": 24,
     "metadata": {},
     "output_type": "execute_result"
    }
   ],
   "source": [
    "flip2(0.5)"
   ]
  },
  {
   "cell_type": "markdown",
   "metadata": {},
   "source": [
    "Next, we can write a rejection sampling routine that de-biases the flips:"
   ]
  },
  {
   "cell_type": "code",
   "execution_count": 30,
   "metadata": {},
   "outputs": [
    {
     "data": {
      "text/plain": [
       "(0.503, 0.497)"
      ]
     },
     "execution_count": 30,
     "metadata": {},
     "output_type": "execute_result"
    }
   ],
   "source": [
    "def flip_fair(p):\n",
    "    '''Uses rejection sampling to de-bias the coin flips\n",
    "    \n",
    "    Args:\n",
    "        N - number of trials (int)\n",
    "        p - number [0,1]\n",
    "    '''\n",
    "    cur = flip2(p)\n",
    "    \n",
    "    #hh or tt\n",
    "    while cur[0] == cur[1]:\n",
    "        cur = flip2(p)\n",
    "    \n",
    "    #return the first element\n",
    "    return cur[0]\n",
    "\n",
    "\n",
    "def simulate_fair(N, p):\n",
    "    '''Simulates N coin flips with probability p, but uses rejection sampling\n",
    "    \n",
    "    Args:\n",
    "        N - number of trials (int)\n",
    "        p - number [0,1]\n",
    "    '''\n",
    "    \n",
    "    values = []\n",
    "    \n",
    "    for i in range(N):\n",
    "        values.append(flip_fair(p))\n",
    "        \n",
    "    return values.count('H')/N, values.count('T')/N\n",
    "\n",
    "simulate_fair(1000, 0.3)"
   ]
  },
  {
   "cell_type": "markdown",
   "metadata": {},
   "source": [
    "Now, let's look at performance. We can measure the time taken to run the simulation using the time module in python"
   ]
  },
  {
   "cell_type": "code",
   "execution_count": 34,
   "metadata": {},
   "outputs": [
    {
     "name": "stdout",
     "output_type": "stream",
     "text": [
      "Rejection 0.5 5.247094274644856\n",
      "Rejection 0.25 7.74429616874731\n",
      "Rejection 0.125 9.351269909599656\n",
      "Rejection 0.0625 19.6353852776582\n",
      "Rejection 0.003125 191.656048213517\n"
     ]
    }
   ],
   "source": [
    "import time\n",
    "\n",
    "start = time.time()\n",
    "simulate(1000, 0.5)\n",
    "baseline = time.time() - start\n",
    "\n",
    "start = time.time()\n",
    "simulate_fair(1000, 0.5)\n",
    "print('Rejection 0.5', (time.time() - start)/baseline)\n",
    "\n",
    "start = time.time()\n",
    "simulate_fair(1000, 0.25)\n",
    "print('Rejection 0.25', (time.time() - start)/baseline)\n",
    "\n",
    "start = time.time()\n",
    "simulate_fair(1000, 0.125)\n",
    "print('Rejection 0.125', (time.time() - start)/baseline)\n",
    "\n",
    "start = time.time()\n",
    "simulate_fair(1000, 0.0625)\n",
    "print('Rejection 0.0625', (time.time() - start)/baseline)\n",
    "\n",
    "start = time.time()\n",
    "simulate_fair(1000, 0.003125)\n",
    "print('Rejection 0.003125', (time.time() - start)/baseline)"
   ]
  },
  {
   "cell_type": "code",
   "execution_count": null,
   "metadata": {},
   "outputs": [],
   "source": []
  }
 ],
 "metadata": {
  "kernelspec": {
   "display_name": "Python 3",
   "language": "python",
   "name": "python3"
  },
  "language_info": {
   "codemirror_mode": {
    "name": "ipython",
    "version": 3
   },
   "file_extension": ".py",
   "mimetype": "text/x-python",
   "name": "python",
   "nbconvert_exporter": "python",
   "pygments_lexer": "ipython3",
   "version": "3.7.4"
  }
 },
 "nbformat": 4,
 "nbformat_minor": 2
}
